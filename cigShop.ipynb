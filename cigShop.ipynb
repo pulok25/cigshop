{
  "nbformat": 4,
  "nbformat_minor": 0,
  "metadata": {
    "colab": {
      "provenance": [],
      "authorship_tag": "ABX9TyPI8CR8I+aa+PugBvnAdFVA",
      "include_colab_link": true
    },
    "kernelspec": {
      "name": "python3",
      "display_name": "Python 3"
    },
    "language_info": {
      "name": "python"
    }
  },
  "cells": [
    {
      "cell_type": "markdown",
      "metadata": {
        "id": "view-in-github",
        "colab_type": "text"
      },
      "source": [
        "<a href=\"https://colab.research.google.com/github/pulok25/cigshop/blob/main/cigShop.ipynb\" target=\"_parent\"><img src=\"https://colab.research.google.com/assets/colab-badge.svg\" alt=\"Open In Colab\"/></a>"
      ]
    },
    {
      "cell_type": "code",
      "execution_count": null,
      "metadata": {
        "colab": {
          "base_uri": "https://localhost:8080/"
        },
        "id": "cq42xJGDt9vA",
        "outputId": "c85256e9-5686-42af-862c-18918df84f73"
      },
      "outputs": [
        {
          "output_type": "stream",
          "name": "stdout",
          "text": [
            "What is your favourite cig name? Benson\n",
            "how much you need?2\n",
            "Total price is 36 TK\n",
            "Thank you for shopping with us\n",
            "Enter your Money100\n",
            "Cash back is 64\n"
          ]
        }
      ],
      "source": [
        "cig_name = input(\"What is your favourite cig name? \")\n",
        "\n",
        "if cig_name == \"Marlboro\":\n",
        "    how_much = int(input(\"how much you need?\"))\n",
        "    total = how_much * 18\n",
        "\n",
        "    print(\"Total price is\",total,\"TK\")\n",
        "elif cig_name == \"Benson\":\n",
        "    how_much = int(input(\"how much you need?\"))\n",
        "    total = how_much * 18\n",
        "    print(\"Total price is\",total,\"TK\")\n",
        "\n",
        "elif cig_name == \"Gold Leaf\":\n",
        "  how_much = int(input(\"how much you need?\"))\n",
        "  total = how_much * 13\n",
        "  print(\"Total price is\",total,\"TK\")\n",
        "\n",
        "else:\n",
        "  print(\"Sorry we don't have this cig\")\n",
        "\n",
        "print(\"Thank you for shopping with us\")\n",
        "\n",
        "give_money = int(input(\"Enter your Money\"))\n",
        "cash_back = give_money - total\n",
        "print(\"Cash back is\",cash_back)"
      ]
    }
  ]
}